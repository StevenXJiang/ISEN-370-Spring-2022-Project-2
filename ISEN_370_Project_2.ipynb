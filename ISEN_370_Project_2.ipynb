{
  "nbformat": 4,
  "nbformat_minor": 0,
  "metadata": {
    "colab": {
      "name": "ISEN 370 Project 2.ipynb",
      "provenance": [],
      "collapsed_sections": [],
      "authorship_tag": "ABX9TyPi/KIluX/Qv0EfCCFL5qnp",
      "include_colab_link": true
    },
    "kernelspec": {
      "name": "python3",
      "display_name": "Python 3"
    },
    "language_info": {
      "name": "python"
    }
  },
  "cells": [
    {
      "cell_type": "markdown",
      "metadata": {
        "id": "view-in-github",
        "colab_type": "text"
      },
      "source": [
        "<a href=\"https://colab.research.google.com/github/StevenXJiang/ISEN-370-Spring-2022-Project-2/blob/main/ISEN_370_Project_2.ipynb\" target=\"_parent\"><img src=\"https://colab.research.google.com/assets/colab-badge.svg\" alt=\"Open In Colab\"/></a>"
      ]
    },
    {
      "cell_type": "markdown",
      "metadata": {
        "id": "ORIRg6IK6lqT"
      },
      "source": [
        "# ISEN 370 Project 2 Assignment\n",
        "In this project, you will use data science tools to study sampling distributions and construct confidence interval. <br>\n",
        "\n"
      ]
    },
    {
      "cell_type": "markdown",
      "metadata": {
        "id": "JyV5HGI4oSn7"
      },
      "source": [
        "# Import Libraries\n",
        "Import necessary libraries for the project. Use ISEN 370 Project 2 Demo as an example. <br>\n",
        "For your convenience, two libraries have been included below:\n",
        "\n",
        "\n",
        "\n",
        "\n",
        "\n",
        "\n",
        " \n"
      ]
    },
    {
      "cell_type": "code",
      "metadata": {
        "id": "4y1CM1g7kkbB"
      },
      "source": [
        "import numpy as np\n",
        "import pandas as pd\n"
      ],
      "execution_count": null,
      "outputs": []
    },
    {
      "cell_type": "markdown",
      "metadata": {
        "id": "3qsXYkC_6_r-"
      },
      "source": [
        "## Data Import\n",
        "\n",
        "The Learning Enhanced Watershed Assessment System (LEWAS) is a unique real-time water and weather monitoring system. The LEWAS monitoring site is installed at the outfall of the Webb Branch watershed on Virginia Tech’s campus. Webb Branch is an urban stream with a 2.78 square kilometer (about one square mile) watershed consisting of residential and commercial properties. The stream is routed through man-made channels and culverts until it discharges at the LEWAS monitoring site.\n",
        "We first import the LEWAS datasets. The data is stored in CSV files for which the path is given in the cell below.\n",
        "The CSV file contains data from 9/28/2017-9/30/2017.<br>\n",
        "We name this link data_url2.\n"
      ]
    },
    {
      "cell_type": "code",
      "metadata": {
        "id": "-9ca6m4CjWwW"
      },
      "source": [
        "data_url2='https://github.com/StevenXJiang/DataScienceModule2/raw/main/LEWAS_Storm_Data_Demo_2.csv'"
      ],
      "execution_count": null,
      "outputs": []
    },
    {
      "cell_type": "markdown",
      "source": [
        "Import the dataset and print the first 10 rows of data. "
      ],
      "metadata": {
        "id": "PTLMzxXbZPHP"
      }
    },
    {
      "cell_type": "code",
      "metadata": {
        "id": "CBchd78jjraI"
      },
      "source": [
        ""
      ],
      "execution_count": null,
      "outputs": []
    },
    {
      "cell_type": "markdown",
      "source": [
        "Let's focus on Estimated Flow Rate (m3/s) in this project. Create a new dataframe that only contains Est. Flow Rate [m3/s]."
      ],
      "metadata": {
        "id": "5teRWzLSz6YW"
      }
    },
    {
      "cell_type": "code",
      "source": [
        ""
      ],
      "metadata": {
        "id": "M9wQwtCA0Fei"
      },
      "execution_count": null,
      "outputs": []
    },
    {
      "cell_type": "markdown",
      "metadata": {
        "id": "PM69GHhR67pA"
      },
      "source": [
        "# Exploring Data"
      ]
    },
    {
      "cell_type": "markdown",
      "source": [
        "Let's investigate the distribution of the variable Est. Flow Rate[m^3/s]."
      ],
      "metadata": {
        "id": "ys__yqqA0bNt"
      }
    },
    {
      "cell_type": "code",
      "source": [
        ""
      ],
      "metadata": {
        "id": "cvRxprvwyM3r"
      },
      "execution_count": null,
      "outputs": []
    },
    {
      "cell_type": "markdown",
      "metadata": {
        "id": "6fmCJgKrSK9L"
      },
      "source": [
        "***Comment on the shape of the distribution.***\n",
        "<br>\n",
        "***Answer:***\n",
        "<br> (double click here to enter your comments)\n"
      ]
    },
    {
      "cell_type": "markdown",
      "metadata": {
        "id": "n2cWw2t1VpNX"
      },
      "source": [
        "#Box plot\n",
        "Box plots can be used to check if there are outliers in the data set and can also be used to check for normality.\n",
        "\n",
        "DataFrame.boxplot(column=, grid=True, ...) can be used to generate boxplots for selected columns. use column= to specify the columns you would like to use to create boxplots and use grid=Fasle to not display grids (by default it is True).\n",
        "\n"
      ]
    },
    {
      "cell_type": "markdown",
      "metadata": {
        "id": "ZiHCn5QTA5_d"
      },
      "source": [
        "Generate Boxplot for Est. Flow Rate[m^3/s] in year 2017.\n",
        "\n"
      ]
    },
    {
      "cell_type": "code",
      "metadata": {
        "id": "WluoZiUAVsik"
      },
      "source": [
        ""
      ],
      "execution_count": null,
      "outputs": []
    },
    {
      "cell_type": "markdown",
      "metadata": {
        "id": "ARWBSqTdTWaF"
      },
      "source": [
        "***Comment on the boxplot. Are there any outliers?*** \n",
        "<br>\n",
        "***Answer:*** <br>\n"
      ]
    },
    {
      "cell_type": "markdown",
      "source": [
        "## Sampling Distribution"
      ],
      "metadata": {
        "id": "k31ZMbb7DiIn"
      }
    },
    {
      "cell_type": "markdown",
      "source": [
        "Now, let's build sampling distribution for the mean of Est. Flow Rate[m^3/s]. "
      ],
      "metadata": {
        "id": "wAv9GbI001CL"
      }
    },
    {
      "cell_type": "markdown",
      "source": [
        "First, let's create an array that represents the population using to_numpy() function."
      ],
      "metadata": {
        "id": "gXYqvR0_1G3I"
      }
    },
    {
      "cell_type": "code",
      "source": [
        ""
      ],
      "metadata": {
        "id": "u_MZyG2r1S5h"
      },
      "execution_count": null,
      "outputs": []
    },
    {
      "cell_type": "markdown",
      "source": [
        "The sampling distribution consists of sample means from many samples of a certian size. We will build a function to randomly sample the population based on the sample size and number of samples."
      ],
      "metadata": {
        "id": "lo-jruOM1aRM"
      }
    },
    {
      "cell_type": "markdown",
      "source": [
        "The function is named sample_mean_calculator() and has three parameters: population_array, sample_size, and n_samples. population_array is the population. In our case, it would be a1. sample size is the number of observations in each sample. We will change the sample size and study the impact on the distribution. n_samples provides the number of samples."
      ],
      "metadata": {
        "id": "lPLBWZow15q_"
      }
    },
    {
      "cell_type": "markdown",
      "source": [
        "First, we define sample_means as an empty list [].\n",
        "We then use a loop to get each of the n samples.\n",
        "For each sample, we randomly generate a sample of size sample_size.\n",
        "The NumPy random choice() function is used to gets the random samples of a one-dimensional array which returns as the random samples of NumPy array. The NumPy random choice() function is a built-in function in the NumPy package of python.\n",
        "We calculate the sample mean for each sample using stat.mean() function and add it to the sample_means list."
      ],
      "metadata": {
        "id": "7_gIPB9H26-u"
      }
    },
    {
      "cell_type": "code",
      "source": [
        ""
      ],
      "metadata": {
        "id": "ivN_dXFMylVV"
      },
      "execution_count": null,
      "outputs": []
    },
    {
      "cell_type": "markdown",
      "source": [
        "Let's generate a sampling distribution using sample size 10 and  10 samples.\n",
        "Visualize the distribution of the data using sns.displot()."
      ],
      "metadata": {
        "id": "xAHNGZ0R3yVq"
      }
    },
    {
      "cell_type": "code",
      "source": [
        ""
      ],
      "metadata": {
        "id": "DhcZ-ETQ_Qk1"
      },
      "execution_count": null,
      "outputs": []
    },
    {
      "cell_type": "code",
      "source": [
        ""
      ],
      "metadata": {
        "id": "ecArcPRbyzbN"
      },
      "execution_count": null,
      "outputs": []
    },
    {
      "cell_type": "markdown",
      "source": [
        "Let's try sample size 30, and 10000 samples."
      ],
      "metadata": {
        "id": "DV7QmbEf3w-L"
      }
    },
    {
      "cell_type": "code",
      "source": [
        ""
      ],
      "metadata": {
        "id": "BJJla7Gq-e9C"
      },
      "execution_count": null,
      "outputs": []
    },
    {
      "cell_type": "code",
      "source": [
        ""
      ],
      "metadata": {
        "id": "IQGk4rfi--y_"
      },
      "execution_count": null,
      "outputs": []
    },
    {
      "cell_type": "markdown",
      "source": [
        "Let's try sample size of 100, 10000 samples."
      ],
      "metadata": {
        "id": "c3IeKshQ5DMk"
      }
    },
    {
      "cell_type": "code",
      "source": [
        ""
      ],
      "metadata": {
        "id": "rjzpoEzp_GkP"
      },
      "execution_count": null,
      "outputs": []
    },
    {
      "cell_type": "code",
      "source": [
        ""
      ],
      "metadata": {
        "id": "1FbeEtH15K82"
      },
      "execution_count": null,
      "outputs": []
    },
    {
      "cell_type": "markdown",
      "source": [
        "<b>Question:</b> What did you observe from the three sampling distributions generated above?<br>\n",
        "<b>Answer:</b>\n"
      ],
      "metadata": {
        "id": "BlJRyj0D_pPA"
      }
    },
    {
      "cell_type": "markdown",
      "source": [
        "## Using Sampling Distribution of the Mean and Vairance to Do Calculation"
      ],
      "metadata": {
        "id": "roTwRtjgHKY0"
      }
    },
    {
      "cell_type": "markdown",
      "source": [
        "1. Assuming the population mean (mean Est. Flow Rate[m^3/s] in 2017) is -0.09.  The mean Est. Flow Rate[m^3/s] for a sample of 26 observations is 0.02 and variance is 0.0004. What is the probability of the mean Est. Flow Rate[m^3/s] is <b> greater</b> than -0.13?"
      ],
      "metadata": {
        "id": "QFvoNitvIUTO"
      }
    },
    {
      "cell_type": "markdown",
      "source": [
        "Test statistic for the sampling distribution of mean is t.<br>\n",
        "$t=\\frac{x̄-μ}{\\sqrt\\frac{s^2}{n-1}}$ with degree of freedom n-1.<br>\n",
        "The cumulative distribution function (CDF) of a real-valued random variable X, or just distribution function of X, evaluated at x, is the probability that X will take a value less than or equal to x."
      ],
      "metadata": {
        "id": "dSsn8dzHMu4N"
      }
    },
    {
      "cell_type": "code",
      "source": [
        ""
      ],
      "metadata": {
        "id": "fjkowgN3KyzN"
      },
      "execution_count": null,
      "outputs": []
    },
    {
      "cell_type": "code",
      "source": [
        ""
      ],
      "metadata": {
        "id": "K4d49Sc7L2gy"
      },
      "execution_count": null,
      "outputs": []
    },
    {
      "cell_type": "markdown",
      "source": [
        "<b>Question:</b> <br>\n",
        "What is the probability of the mean Est. Flow Rate[m^3/s] is greater than -0.13? <br>\n",
        "<b>Answer:</b> <br>\n"
      ],
      "metadata": {
        "id": "_bQ5dG4-wkdK"
      }
    },
    {
      "cell_type": "markdown",
      "source": [
        "2. Assume the variance of the Est. Flow Rate[m^3/s] is 0.0009. What is the probability that the sample variance is <b>greater</b> than 0.0005?"
      ],
      "metadata": {
        "id": "OdLw3SWPO6M1"
      }
    },
    {
      "cell_type": "code",
      "source": [
        ""
      ],
      "metadata": {
        "id": "sJ5_zv6kwzAn"
      },
      "execution_count": null,
      "outputs": []
    },
    {
      "cell_type": "markdown",
      "source": [
        "Test statistic for sampling distribution of variance is $\\chi^2$. <br>\n",
        "$\\chi^2=\\frac{(n-1)s^2}{\\sigma^2}$ with degree of freedom n-1."
      ],
      "metadata": {
        "id": "sm72BRhAPJxq"
      }
    },
    {
      "cell_type": "code",
      "source": [
        ""
      ],
      "metadata": {
        "id": "PC4VKorbQoHZ"
      },
      "execution_count": null,
      "outputs": []
    },
    {
      "cell_type": "code",
      "source": [
        ""
      ],
      "metadata": {
        "id": "0CoqNJYXPigQ"
      },
      "execution_count": null,
      "outputs": []
    },
    {
      "cell_type": "markdown",
      "source": [
        "<b>Question:</b> <br>What is the probability that the sample variance is greater than 0.0005? <br>\n",
        "<b>Answer:</b> <br>"
      ],
      "metadata": {
        "id": "2BGocXTNw64t"
      }
    },
    {
      "cell_type": "markdown",
      "metadata": {
        "id": "qIHvLHBJTsfc"
      },
      "source": [
        "##Confidence Interval\n",
        "The (1-α)% confidence interval provides a range of values that you can be (1-α)% confident contains/captures the true mean of the population. Due to natural sampling variability, the sample mean (center of the CI) will vary from sample to sample.\n",
        "\n",
        "Practically, it usually is near impossible to study the entire population. Researchers can only work on samples of the population and estimate parameters of the popultion using sample statistics.Therefore, a confidence interval is simply a way to measure how well the sample represents the population. \n",
        "\n",
        "It is important to point out that the confidence is in the **method**, not in a particular interval. If we repeat the sampling method many times, approximately 95% of the intervals constructed would **capture** the true population mean.\n",
        "\n",
        "Therefore, as the sample size increases, the range of interval values will be narrower, meaning that the estimationbeing more accurate compared with a smaller sample.\n",
        "<br>\n",
        "<br>\n",
        "In this project, we can construct confidence interval based on the sample data collected.\n",
        "<br>\n",
        "From the histogram and bloxplot, we have already estabished that the data is not normally distributed. However, give the large sample size, using the central limit theorem, we know the sampling distribution of the mean will follow a normal distribution. The following code will generate the 95% confidence interval for the mean water temperatue for year 2016. The code will generate the upper level and lower level of the confidence interval based on the sample.\n",
        "\n",
        "stats.norm.interval(alpha=,loc=scale=) function is used to genetate the confidence interval. alpha provides the significance level, 1-alpha is the confidence, loc is the mean and scale is the standard deviation of the sample mean.\n",
        "\n",
        "numpy.mean() function provides the sample mean and stats.sem() computes the sandard error of the mean."
      ]
    },
    {
      "cell_type": "markdown",
      "source": [
        "Let's randomly select a sample of 200 observations from the population (Est. Flow Rate[m^3/s])."
      ],
      "metadata": {
        "id": "0PSszE14xdU-"
      }
    },
    {
      "cell_type": "code",
      "source": [
        ""
      ],
      "metadata": {
        "id": "d0mFtofMxmrv"
      },
      "execution_count": null,
      "outputs": []
    },
    {
      "cell_type": "markdown",
      "source": [
        "Construct a 95% confidence interval for the mean Est. Flow Rate[m^3/s] using the sample data generated."
      ],
      "metadata": {
        "id": "n43KCra3x3_q"
      }
    },
    {
      "cell_type": "code",
      "source": [
        ""
      ],
      "metadata": {
        "id": "kNoACzYRyNxL"
      },
      "execution_count": null,
      "outputs": []
    },
    {
      "cell_type": "markdown",
      "metadata": {
        "id": "UF0rbyLBVsvd"
      },
      "source": [
        "***Interpret the confidence interval you generated.***\n",
        "<br>\n",
        "***Answer:***\n",
        "<br>"
      ]
    }
  ]
}