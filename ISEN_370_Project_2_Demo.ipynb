{
  "nbformat": 4,
  "nbformat_minor": 0,
  "metadata": {
    "colab": {
      "name": "ISEN 370 Project 2 Demo.ipynb",
      "provenance": [],
      "collapsed_sections": [],
      "authorship_tag": "ABX9TyNIeA8+AkKI7L8vvCx+i6ti",
      "include_colab_link": true
    },
    "kernelspec": {
      "name": "python3",
      "display_name": "Python 3"
    },
    "language_info": {
      "name": "python"
    }
  },
  "cells": [
    {
      "cell_type": "markdown",
      "metadata": {
        "id": "view-in-github",
        "colab_type": "text"
      },
      "source": [
        "<a href=\"https://colab.research.google.com/github/StevenXJiang/ISEN-370-Spring-2022-Project-2/blob/main/ISEN_370_Project_2_Demo.ipynb\" target=\"_parent\"><img src=\"https://colab.research.google.com/assets/colab-badge.svg\" alt=\"Open In Colab\"/></a>"
      ]
    },
    {
      "cell_type": "markdown",
      "metadata": {
        "id": "ORIRg6IK6lqT"
      },
      "source": [
        "# ISEN 370 Project 2 Demonstration \n",
        "In this demo, you will be shown how to use data science tools to study sampling distributions and ocnstruct confidence interval. <br>\n",
        "The next section provides some tips that can be used in this Markdown document.\n"
      ]
    },
    {
      "cell_type": "markdown",
      "metadata": {
        "id": "8HQYFPL5_mYH"
      },
      "source": [
        "# Markdown can work with Latex to type math symbols and formulas.\n",
        "To embed LaTeX within text, simply encapsulate the LaTeX portions in dollar signs (\\$). MathJax takes care of the rest. \n",
        "For instance, Einstein told us that $E = mc^2$ is done using Einstein told us that \\$E = mc^2\\$.\n",
        "* You can put formulas centered in their own lines using double \\$\\$ characters. <br>\n",
        "* Greek letter MU is represented by \\mu <br>\n",
        "* subscription is done using \"_\" <br>\n",
        "* not equal to is represented by \\neq <br>\n",
        "* Use \\<br> for a new line\n",
        "\n",
        "<br>\n",
        "<br>\n",
        "Following is a list of some symbols you may find useful in this class.\n",
        "\n",
        "LaTeX | symbol\n",
        "--- | :---: \n",
        "`\\mu` | $\\mu$ \n",
        "`\\sigma` | $\\sigma$ \n",
        "`\\alpha` | $\\alpha$ \n",
        "`\\frac{b}{a}` | $\\frac{b}{a}$ \n",
        "`\\a^2` | $a^2$ \n",
        "`\\approx` | $\\approx$ \n",
        "`\\sim` | $\\sim$ \n",
        "`\\propto` | $\\propto$\n",
        "`\\le` | $\\le$\n",
        "`ge` | $\\ge$\n",
        "`\\pm` | $\\pm$\n",
        "`\\in` | $\\in$\n",
        "`\\ln` | $\\ln$\n",
        "`\\exp` | $\\exp$\n",
        "`\\prod_{i\\in D}` | ${\\displaystyle \\prod_{i\\in D}}$\n",
        "`\\sum_{i\\in D}` | ${\\displaystyle \\sum_{i\\in D}}$\n",
        "`\\frac{\\partial f}{\\partial x}` | ${\\displaystyle \\frac{\\partial f}{\\partial x}}$\n",
        "`\\sqrt{x}` | $\\sqrt{x}$\n",
        "`\\bar{x}` | $\\bar{x}$\n"
      ]
    },
    {
      "cell_type": "markdown",
      "metadata": {
        "id": "JyV5HGI4oSn7"
      },
      "source": [
        "# Import Libraries\n",
        "We will need to import necessary libraries for the project. \n",
        "*  Numpy is The fundamental package for scientific computing with Python. \n",
        "*  Pandas is a data analysis and manipulation tool.  \n",
        "*  Matplotlib is Matplotlib is a comprehensive library for creating static, animated, and interactive visualizations in Python.\n",
        "*  SciPy provides algorithms for optimization, integration, interpolation, eigenvalue problems, algebraic equations, differential equations, statistics and many other classes of problems.\n",
        "*  Seaborn is a Python data visualization library based on matplotlib. It provides a high-level interface for drawing attractive and informative statistical graphics.\n",
        "*  Python has a built-in module that you can use to calculate mathematical statistics of numeric data.\n",
        "*  Python has a built-in module that you can use for mathematical tasks.\n",
        "\n",
        "\n",
        "\n",
        "\n",
        "\n",
        "\n",
        " \n"
      ]
    },
    {
      "cell_type": "code",
      "metadata": {
        "id": "4y1CM1g7kkbB"
      },
      "source": [
        "import numpy as np\n",
        "import pandas as pd\n",
        "import matplotlib.pyplot as plt\n",
        "import scipy.stats as stats\n",
        "import seaborn as sns\n",
        "import statistics as stat\n",
        "import math as math\n",
        "from scipy.stats import t\n",
        "from scipy.stats import chi2"
      ],
      "execution_count": 1,
      "outputs": []
    },
    {
      "cell_type": "markdown",
      "metadata": {
        "id": "3qsXYkC_6_r-"
      },
      "source": [
        "## Data Import\n",
        "\n",
        "The Learning Enhanced Watershed Assessment System (LEWAS) is a unique real-time water and weather monitoring system. The LEWAS monitoring site is installed at the outfall of the Webb Branch watershed on Virginia Tech’s campus. Webb Branch is an urban stream with a 2.78 square kilometer (about one square mile) watershed consisting of residential and commercial properties. The stream is routed through man-made channels and culverts until it discharges at the LEWAS monitoring site.\n",
        "We first import the LEWAS datasets and print the first 10 rows of data. The data is stored in CSV files for which the path is given in the cell below.\n",
        "The CSV file contains data from 9/28/2016-9/30/2016.\n",
        "\n",
        "read.csv() is a function in pandas that allows us read csv file.\n",
        "df.head() is a funciton that can be applied to a dataframe to display the first n number of records. So df1.head(10) will display first 10 records for dataframe df1.\n",
        "<br> Notice we have three variables: Date and Time, Water Temperature (F), Estimated Flow Rate (m3/s)."
      ]
    },
    {
      "cell_type": "code",
      "metadata": {
        "id": "-9ca6m4CjWwW"
      },
      "source": [
        "data_url1='https://github.com/StevenXJiang/DataScienceModule2/raw/main/LEWAS_Storm_Data_Demo_1.csv'\n"
      ],
      "execution_count": 2,
      "outputs": []
    },
    {
      "cell_type": "code",
      "metadata": {
        "id": "CBchd78jjraI",
        "colab": {
          "base_uri": "https://localhost:8080/",
          "height": 363
        },
        "outputId": "8f54be8a-debe-41ca-bcb4-f8e7050a09d5"
      },
      "source": [
        "df1=pd.read_csv(data_url1)\n",
        "df1.head(10)"
      ],
      "execution_count": 3,
      "outputs": [
        {
          "output_type": "execute_result",
          "data": {
            "text/plain": [
              "     Date and Time  Water Temperature (F)  Estimated Flow Rate (m3/s)\n",
              "0  9/28/16 1:00 PM                 64.562                       0.073\n",
              "1  9/28/16 1:01 PM                 64.544                       0.072\n",
              "2  9/28/16 1:02 PM                 64.544                       0.073\n",
              "3  9/28/16 1:03 PM                 64.562                       0.073\n",
              "4  9/28/16 1:04 PM                 64.544                       0.070\n",
              "5  9/28/16 1:05 PM                 64.544                       0.072\n",
              "6  9/28/16 1:06 PM                 64.544                       0.068\n",
              "7  9/28/16 1:07 PM                 64.544                       0.071\n",
              "8  9/28/16 1:08 PM                 64.580                       0.070\n",
              "9  9/28/16 1:09 PM                 64.562                       0.070"
            ],
            "text/html": [
              "\n",
              "  <div id=\"df-0ff24f5e-0143-4ddb-b14c-5db328962975\">\n",
              "    <div class=\"colab-df-container\">\n",
              "      <div>\n",
              "<style scoped>\n",
              "    .dataframe tbody tr th:only-of-type {\n",
              "        vertical-align: middle;\n",
              "    }\n",
              "\n",
              "    .dataframe tbody tr th {\n",
              "        vertical-align: top;\n",
              "    }\n",
              "\n",
              "    .dataframe thead th {\n",
              "        text-align: right;\n",
              "    }\n",
              "</style>\n",
              "<table border=\"1\" class=\"dataframe\">\n",
              "  <thead>\n",
              "    <tr style=\"text-align: right;\">\n",
              "      <th></th>\n",
              "      <th>Date and Time</th>\n",
              "      <th>Water Temperature (F)</th>\n",
              "      <th>Estimated Flow Rate (m3/s)</th>\n",
              "    </tr>\n",
              "  </thead>\n",
              "  <tbody>\n",
              "    <tr>\n",
              "      <th>0</th>\n",
              "      <td>9/28/16 1:00 PM</td>\n",
              "      <td>64.562</td>\n",
              "      <td>0.073</td>\n",
              "    </tr>\n",
              "    <tr>\n",
              "      <th>1</th>\n",
              "      <td>9/28/16 1:01 PM</td>\n",
              "      <td>64.544</td>\n",
              "      <td>0.072</td>\n",
              "    </tr>\n",
              "    <tr>\n",
              "      <th>2</th>\n",
              "      <td>9/28/16 1:02 PM</td>\n",
              "      <td>64.544</td>\n",
              "      <td>0.073</td>\n",
              "    </tr>\n",
              "    <tr>\n",
              "      <th>3</th>\n",
              "      <td>9/28/16 1:03 PM</td>\n",
              "      <td>64.562</td>\n",
              "      <td>0.073</td>\n",
              "    </tr>\n",
              "    <tr>\n",
              "      <th>4</th>\n",
              "      <td>9/28/16 1:04 PM</td>\n",
              "      <td>64.544</td>\n",
              "      <td>0.070</td>\n",
              "    </tr>\n",
              "    <tr>\n",
              "      <th>5</th>\n",
              "      <td>9/28/16 1:05 PM</td>\n",
              "      <td>64.544</td>\n",
              "      <td>0.072</td>\n",
              "    </tr>\n",
              "    <tr>\n",
              "      <th>6</th>\n",
              "      <td>9/28/16 1:06 PM</td>\n",
              "      <td>64.544</td>\n",
              "      <td>0.068</td>\n",
              "    </tr>\n",
              "    <tr>\n",
              "      <th>7</th>\n",
              "      <td>9/28/16 1:07 PM</td>\n",
              "      <td>64.544</td>\n",
              "      <td>0.071</td>\n",
              "    </tr>\n",
              "    <tr>\n",
              "      <th>8</th>\n",
              "      <td>9/28/16 1:08 PM</td>\n",
              "      <td>64.580</td>\n",
              "      <td>0.070</td>\n",
              "    </tr>\n",
              "    <tr>\n",
              "      <th>9</th>\n",
              "      <td>9/28/16 1:09 PM</td>\n",
              "      <td>64.562</td>\n",
              "      <td>0.070</td>\n",
              "    </tr>\n",
              "  </tbody>\n",
              "</table>\n",
              "</div>\n",
              "      <button class=\"colab-df-convert\" onclick=\"convertToInteractive('df-0ff24f5e-0143-4ddb-b14c-5db328962975')\"\n",
              "              title=\"Convert this dataframe to an interactive table.\"\n",
              "              style=\"display:none;\">\n",
              "        \n",
              "  <svg xmlns=\"http://www.w3.org/2000/svg\" height=\"24px\"viewBox=\"0 0 24 24\"\n",
              "       width=\"24px\">\n",
              "    <path d=\"M0 0h24v24H0V0z\" fill=\"none\"/>\n",
              "    <path d=\"M18.56 5.44l.94 2.06.94-2.06 2.06-.94-2.06-.94-.94-2.06-.94 2.06-2.06.94zm-11 1L8.5 8.5l.94-2.06 2.06-.94-2.06-.94L8.5 2.5l-.94 2.06-2.06.94zm10 10l.94 2.06.94-2.06 2.06-.94-2.06-.94-.94-2.06-.94 2.06-2.06.94z\"/><path d=\"M17.41 7.96l-1.37-1.37c-.4-.4-.92-.59-1.43-.59-.52 0-1.04.2-1.43.59L10.3 9.45l-7.72 7.72c-.78.78-.78 2.05 0 2.83L4 21.41c.39.39.9.59 1.41.59.51 0 1.02-.2 1.41-.59l7.78-7.78 2.81-2.81c.8-.78.8-2.07 0-2.86zM5.41 20L4 18.59l7.72-7.72 1.47 1.35L5.41 20z\"/>\n",
              "  </svg>\n",
              "      </button>\n",
              "      \n",
              "  <style>\n",
              "    .colab-df-container {\n",
              "      display:flex;\n",
              "      flex-wrap:wrap;\n",
              "      gap: 12px;\n",
              "    }\n",
              "\n",
              "    .colab-df-convert {\n",
              "      background-color: #E8F0FE;\n",
              "      border: none;\n",
              "      border-radius: 50%;\n",
              "      cursor: pointer;\n",
              "      display: none;\n",
              "      fill: #1967D2;\n",
              "      height: 32px;\n",
              "      padding: 0 0 0 0;\n",
              "      width: 32px;\n",
              "    }\n",
              "\n",
              "    .colab-df-convert:hover {\n",
              "      background-color: #E2EBFA;\n",
              "      box-shadow: 0px 1px 2px rgba(60, 64, 67, 0.3), 0px 1px 3px 1px rgba(60, 64, 67, 0.15);\n",
              "      fill: #174EA6;\n",
              "    }\n",
              "\n",
              "    [theme=dark] .colab-df-convert {\n",
              "      background-color: #3B4455;\n",
              "      fill: #D2E3FC;\n",
              "    }\n",
              "\n",
              "    [theme=dark] .colab-df-convert:hover {\n",
              "      background-color: #434B5C;\n",
              "      box-shadow: 0px 1px 3px 1px rgba(0, 0, 0, 0.15);\n",
              "      filter: drop-shadow(0px 1px 2px rgba(0, 0, 0, 0.3));\n",
              "      fill: #FFFFFF;\n",
              "    }\n",
              "  </style>\n",
              "\n",
              "      <script>\n",
              "        const buttonEl =\n",
              "          document.querySelector('#df-0ff24f5e-0143-4ddb-b14c-5db328962975 button.colab-df-convert');\n",
              "        buttonEl.style.display =\n",
              "          google.colab.kernel.accessAllowed ? 'block' : 'none';\n",
              "\n",
              "        async function convertToInteractive(key) {\n",
              "          const element = document.querySelector('#df-0ff24f5e-0143-4ddb-b14c-5db328962975');\n",
              "          const dataTable =\n",
              "            await google.colab.kernel.invokeFunction('convertToInteractive',\n",
              "                                                     [key], {});\n",
              "          if (!dataTable) return;\n",
              "\n",
              "          const docLinkHtml = 'Like what you see? Visit the ' +\n",
              "            '<a target=\"_blank\" href=https://colab.research.google.com/notebooks/data_table.ipynb>data table notebook</a>'\n",
              "            + ' to learn more about interactive tables.';\n",
              "          element.innerHTML = '';\n",
              "          dataTable['output_type'] = 'display_data';\n",
              "          await google.colab.output.renderOutput(dataTable, element);\n",
              "          const docLink = document.createElement('div');\n",
              "          docLink.innerHTML = docLinkHtml;\n",
              "          element.appendChild(docLink);\n",
              "        }\n",
              "      </script>\n",
              "    </div>\n",
              "  </div>\n",
              "  "
            ]
          },
          "metadata": {},
          "execution_count": 3
        }
      ]
    },
    {
      "cell_type": "markdown",
      "source": [
        "Let's focus on water temperature. We will create a new dataframe that only contains water temperature."
      ],
      "metadata": {
        "id": "5teRWzLSz6YW"
      }
    },
    {
      "cell_type": "code",
      "source": [
        "df2=df1['Water Temperature (F)']"
      ],
      "metadata": {
        "id": "M9wQwtCA0Fei"
      },
      "execution_count": 4,
      "outputs": []
    },
    {
      "cell_type": "markdown",
      "metadata": {
        "id": "PM69GHhR67pA"
      },
      "source": [
        "# Exploring Data"
      ]
    },
    {
      "cell_type": "markdown",
      "source": [
        "Let's investigate the distribution of the variable water temperature. <br>\n",
        "We use displot() in seaborn to get the distribution shape. This function provides access to several approaches for visualizing the univariate or bivariate distribution of data, including subsets of data defined by semantic mapping and faceting across multiple subplots. The kind parameter selects the approach to use: \"hist\" is the default. We will use the default to get a histogram for the temperature data."
      ],
      "metadata": {
        "id": "ys__yqqA0bNt"
      }
    },
    {
      "cell_type": "markdown",
      "source": [
        "##Histogram"
      ],
      "metadata": {
        "id": "Gl32ldVjmuXu"
      }
    },
    {
      "cell_type": "code",
      "source": [
        "sns.displot(df2)"
      ],
      "metadata": {
        "colab": {
          "base_uri": "https://localhost:8080/",
          "height": 387
        },
        "id": "cvRxprvwyM3r",
        "outputId": "5b2e2fae-79fe-478b-ed06-d658a3c9d7f8"
      },
      "execution_count": null,
      "outputs": [
        {
          "output_type": "execute_result",
          "data": {
            "text/plain": [
              "<seaborn.axisgrid.FacetGrid at 0x7f1210a27a10>"
            ]
          },
          "metadata": {},
          "execution_count": 5
        },
        {
          "output_type": "display_data",
          "data": {
            "text/plain": [
              "<Figure size 360x360 with 1 Axes>"
            ],
            "image/png": "[encoded data removed]"
          },
          "metadata": {
            "needs_background": "light"
          }
        }
      ]
    },
    {
      "cell_type": "markdown",
      "metadata": {
        "id": "6fmCJgKrSK9L"
      },
      "source": [
        "***Comment on the shape of the distribution.***\n",
        "<br>\n",
        "***Answer:***\n",
        "<br> The distribution of the water temperature for year 2016 is skewed to the left. It certainly does not have a normal distribution."
      ]
    },
    {
      "cell_type": "markdown",
      "metadata": {
        "id": "n2cWw2t1VpNX"
      },
      "source": [
        "#Box plot\n",
        "Box plots can be used to check if there are outliers in the data set and can also be used to check for normality.\n",
        "\n",
        "DataFrame.boxplot(column=, grid=True, ...) can be used to generate boxplots for selected columns. use column= to specify the columns you would like to use to create boxplots and use grid=Fasle to not display grids (by default it is True).\n",
        "\n"
      ]
    },
    {
      "cell_type": "markdown",
      "metadata": {
        "id": "ZiHCn5QTA5_d"
      },
      "source": [
        "Generate Boxplot for water temperature in year 2016."
      ]
    },
    {
      "cell_type": "code",
      "metadata": {
        "colab": {
          "base_uri": "https://localhost:8080/",
          "height": 266
        },
        "id": "WluoZiUAVsik",
        "outputId": "c06ef7d3-56b0-495b-e766-ae4cf933a274"
      },
      "source": [
        "boxplot1 = df1.boxplot(column=[\"Water Temperature (F)\"],grid=False)"
      ],
      "execution_count": null,
      "outputs": [
        {
          "output_type": "display_data",
          "data": {
            "text/plain": [
              "<Figure size 432x288 with 1 Axes>"
            ],
            "image/png": "[encoded data removed]"
          },
          "metadata": {
            "needs_background": "light"
          }
        }
      ]
    },
    {
      "cell_type": "markdown",
      "metadata": {
        "id": "ARWBSqTdTWaF"
      },
      "source": [
        "***Comment on the boxplots. Are there any outliers?*** \n",
        "<br>\n",
        "***Answer:*** <br>\n",
        "There are many outliers for water temperture in year 2016 "
      ]
    },
    {
      "cell_type": "markdown",
      "source": [
        "## Sampling Distribution"
      ],
      "metadata": {
        "id": "k31ZMbb7DiIn"
      }
    },
    {
      "cell_type": "markdown",
      "source": [
        "Now, let's build sampling distribution for the mean of water temperature. "
      ],
      "metadata": {
        "id": "wAv9GbI001CL"
      }
    },
    {
      "cell_type": "markdown",
      "source": [
        "First, let's create an array that represents the population using to_numpy() function."
      ],
      "metadata": {
        "id": "gXYqvR0_1G3I"
      }
    },
    {
      "cell_type": "code",
      "source": [
        "a1=df2.to_numpy()"
      ],
      "metadata": {
        "id": "u_MZyG2r1S5h"
      },
      "execution_count": null,
      "outputs": []
    },
    {
      "cell_type": "markdown",
      "source": [
        "The sampling distribution consists of sample means from many samples of a certian size. We will build a function to randomly sample the population based on the sample size and number of samples."
      ],
      "metadata": {
        "id": "lo-jruOM1aRM"
      }
    },
    {
      "cell_type": "markdown",
      "source": [
        "The function is named sample_mean_calculator() and has three parameters: population_array, sample_size, and n_samples. population_array is the population. In our case, it would be a1. sample size is the number of observations in each sample. We will change the sample size and study the impact on the distribution. n_samples provides the number of samples."
      ],
      "metadata": {
        "id": "lPLBWZow15q_"
      }
    },
    {
      "cell_type": "markdown",
      "source": [
        "First, we define sample_means as an empty list [].\n",
        "We then use a loop to get each of the n samples.\n",
        "For each sample, we randomly generate a sample of size sample_size.\n",
        "The NumPy random choice() function is used to gets the random samples of a one-dimensional array which returns as the random samples of NumPy array. The NumPy random choice() function is a built-in function in the NumPy package of python.\n",
        "We calculate the sample mean for each sample using stat.mean() function and add it to the sample_means list."
      ],
      "metadata": {
        "id": "7_gIPB9H26-u"
      }
    },
    {
      "cell_type": "code",
      "source": [
        "def sample_mean_calculator(population_array, sample_size, n_samples):\n",
        "  sample_means = []\n",
        "  for i in range(n_samples):\n",
        "    sample = np.random.choice(population_array, size=sample_size, replace=False)\n",
        "    sample_mean = stat.mean(sample)\n",
        "    sample_means.append(sample_mean)\n",
        "  return sample_means"
      ],
      "metadata": {
        "id": "ivN_dXFMylVV"
      },
      "execution_count": null,
      "outputs": []
    },
    {
      "cell_type": "markdown",
      "source": [
        "Let's generate a sampling distribution using sample size 10 and  10 samples.\n",
        "Visualize the distribution of the data using sns.displot()."
      ],
      "metadata": {
        "id": "xAHNGZ0R3yVq"
      }
    },
    {
      "cell_type": "code",
      "source": [
        "s0=pd.Series(sample_mean_calculator(a1, 10, 10), name=\"Water Temperature (\\N{DEGREE SIGN}F)\")"
      ],
      "metadata": {
        "id": "DhcZ-ETQ_Qk1"
      },
      "execution_count": null,
      "outputs": []
    },
    {
      "cell_type": "code",
      "source": [
        "sns.displot(s0)"
      ],
      "metadata": {
        "colab": {
          "base_uri": "https://localhost:8080/",
          "height": 369
        },
        "id": "ecArcPRbyzbN",
        "outputId": "d1e0600f-757e-4936-ba3d-acf426a3557b"
      },
      "execution_count": null,
      "outputs": [
        {
          "output_type": "display_data",
          "data": {
            "text/plain": [
              "<Figure size 360x360 with 1 Axes>"
            ],
            "image/png": "[encoded data removed]"
          },
          "metadata": {
            "needs_background": "light"
          }
        }
      ]
    },
    {
      "cell_type": "markdown",
      "source": [
        "Let's try sample size 30, and 10000 samples."
      ],
      "metadata": {
        "id": "DV7QmbEf3w-L"
      }
    },
    {
      "cell_type": "code",
      "source": [
        "s1=pd.Series(sample_mean_calculator(a1, 30, 10000), name=\"Water Temperature (\\N{DEGREE SIGN}F)\")"
      ],
      "metadata": {
        "id": "BJJla7Gq-e9C"
      },
      "execution_count": null,
      "outputs": []
    },
    {
      "cell_type": "code",
      "source": [
        "sns.displot(s1)"
      ],
      "metadata": {
        "colab": {
          "base_uri": "https://localhost:8080/",
          "height": 387
        },
        "id": "IQGk4rfi--y_",
        "outputId": "55018986-d92b-4fd6-a900-7bdad0618b0b"
      },
      "execution_count": null,
      "outputs": [
        {
          "output_type": "execute_result",
          "data": {
            "text/plain": [
              "<seaborn.axisgrid.FacetGrid at 0x7f120dabbd50>"
            ]
          },
          "metadata": {},
          "execution_count": 12
        },
        {
          "output_type": "display_data",
          "data": {
            "text/plain": [
              "<Figure size 360x360 with 1 Axes>"
            ],
            "image/png": "[encoded data removed]"
          },
          "metadata": {
            "needs_background": "light"
          }
        }
      ]
    },
    {
      "cell_type": "markdown",
      "source": [
        "Let's try sample size of 100, 10000 samples."
      ],
      "metadata": {
        "id": "c3IeKshQ5DMk"
      }
    },
    {
      "cell_type": "code",
      "source": [
        "s2=pd.Series(sample_mean_calculator(a1, 100, 10000), name=\"Water Temperature (\\N{DEGREE SIGN}F)\")"
      ],
      "metadata": {
        "id": "rjzpoEzp_GkP"
      },
      "execution_count": null,
      "outputs": []
    },
    {
      "cell_type": "code",
      "source": [
        "sns.displot(s2)"
      ],
      "metadata": {
        "colab": {
          "base_uri": "https://localhost:8080/",
          "height": 387
        },
        "id": "1FbeEtH15K82",
        "outputId": "1c24c544-1656-424b-971d-9e408b690c7f"
      },
      "execution_count": null,
      "outputs": [
        {
          "output_type": "execute_result",
          "data": {
            "text/plain": [
              "<seaborn.axisgrid.FacetGrid at 0x7f120da25fd0>"
            ]
          },
          "metadata": {},
          "execution_count": 14
        },
        {
          "output_type": "display_data",
          "data": {
            "text/plain": [
              "<Figure size 360x360 with 1 Axes>"
            ],
            "image/png": "[encoded data removed]"
          },
          "metadata": {
            "needs_background": "light"
          }
        }
      ]
    },
    {
      "cell_type": "markdown",
      "source": [
        "Now, recall the famous central limit theorem, with large enough sample sizes, we can assume the sampling distribution of the means will be normally distributed. This can allow us to run statistical tests that are configured for normal distributions (Most of the most popular statistical tests are configured this way). For instance, a statistical test, the \"t-test\" allows us to infer whether two samples come from different populations (say, an experimental group and a control group). Thanks to the central limit theorem, we can use this test even if we have no idea what the underlying distribution of the population is, which is most of the time."
      ],
      "metadata": {
        "id": "BlJRyj0D_pPA"
      }
    },
    {
      "cell_type": "markdown",
      "source": [
        "## Using Sampling Distribution of the Mean and Vairance to Do Calculation"
      ],
      "metadata": {
        "id": "roTwRtjgHKY0"
      }
    },
    {
      "cell_type": "markdown",
      "source": [
        "Assuming the population mean (mean water temperature in 2016) is 64.  The variance for a sample of 10 observations is 4. What is the probability of the mean water temperature is greater than 63.2?"
      ],
      "metadata": {
        "id": "QFvoNitvIUTO"
      }
    },
    {
      "cell_type": "markdown",
      "source": [
        "Test statistic for the sampling distribution of mean is t.<br>\n",
        "$t=\\frac{x̄-μ}{\\sqrt\\frac{s^2}{n-1}}$ with degree of freedom n-1."
      ],
      "metadata": {
        "id": "dSsn8dzHMu4N"
      }
    },
    {
      "cell_type": "markdown",
      "source": [
        "The cumulative distribution function (CDF) of a real-valued random variable X, or just distribution function of X, evaluated at x, is the probability that X will take a value less than or equal to x: $P(X<x)$.<br>\n",
        "In this case, $\\mu=64$, $s^2=4$, and $n=10$.<br>\n",
        "\n",
        "$P(\\bar X>63.2)=1- P(\\bar x<63.2)$<br><br>\n",
        "\n",
        "$t=\\frac{63.2-64}{\\sqrt\\frac{4}{10-1}}$. <br>"
      ],
      "metadata": {
        "id": "fQDXxgE-dLUm"
      }
    },
    {
      "cell_type": "code",
      "source": [
        "t1=(63.2-64)/math.sqrt(4/(10-1))"
      ],
      "metadata": {
        "id": "fjkowgN3KyzN"
      },
      "execution_count": 5,
      "outputs": []
    },
    {
      "cell_type": "markdown",
      "source": [
        "$P(\\bar X>63.2)=1-P(\\bar X <63.2)$"
      ],
      "metadata": {
        "id": "93v_siEuopK1"
      }
    },
    {
      "cell_type": "code",
      "source": [
        "#calculate p-value\n",
        "1-t.cdf(x=t1, df=9)"
      ],
      "metadata": {
        "colab": {
          "base_uri": "https://localhost:8080/"
        },
        "id": "K4d49Sc7L2gy",
        "outputId": "4e8cafb5-5b5e-4e87-a2bd-51dbe82fee29"
      },
      "execution_count": 6,
      "outputs": [
        {
          "output_type": "execute_result",
          "data": {
            "text/plain": [
              "0.8696134013047685"
            ]
          },
          "metadata": {},
          "execution_count": 6
        }
      ]
    },
    {
      "cell_type": "markdown",
      "source": [
        " What is the probability of the mean water temperature is greater than 63.2? <br>\n",
        " Answer:  The probability of the mean water temperature is greater than 63.2 is 0.87."
      ],
      "metadata": {
        "id": "ZUPRxVbVo_4w"
      }
    },
    {
      "cell_type": "markdown",
      "source": [
        "Assume the variance of the water temperature in 2016 is 9. What is the probability that the sample variance is less than 3?\n",
        "\n"
      ],
      "metadata": {
        "id": "OdLw3SWPO6M1"
      }
    },
    {
      "cell_type": "markdown",
      "source": [
        "Test statistic for sampling distribution of variance is $\\chi^2$. <br>\n",
        "$\\chi^2=\\frac{(n-1)s^2}{\\sigma^2}$ with degree of freedom n-1. <br>\n",
        "In this case, n=10, $s^2=4, \\sigma^2=9$. <br>\n",
        "$\\chi^2=\\frac{(10-1) 4}{9}$, $df=10-1=9$ <br>\n",
        "$P(\\sigma^2<3)=P(\\chi^2<4)$"
      ],
      "metadata": {
        "id": "sm72BRhAPJxq"
      }
    },
    {
      "cell_type": "code",
      "source": [
        "c1=(10-1)*4/9"
      ],
      "metadata": {
        "id": "PC4VKorbQoHZ"
      },
      "execution_count": null,
      "outputs": []
    },
    {
      "cell_type": "code",
      "source": [
        "chi2.cdf(c1, 9)"
      ],
      "metadata": {
        "colab": {
          "base_uri": "https://localhost:8080/"
        },
        "id": "0CoqNJYXPigQ",
        "outputId": "94e89056-1674-45a5-96f5-916cab3614ad"
      },
      "execution_count": null,
      "outputs": [
        {
          "output_type": "execute_result",
          "data": {
            "text/plain": [
              "0.08858747316832083"
            ]
          },
          "metadata": {},
          "execution_count": 82
        }
      ]
    },
    {
      "cell_type": "markdown",
      "source": [
        "What is the probability that the sample variance is less than 3? <br>\n",
        "Answer: The probability that the sample variance is less than 3 is 0.09."
      ],
      "metadata": {
        "id": "WohptDj2p6LN"
      }
    },
    {
      "cell_type": "markdown",
      "metadata": {
        "id": "qIHvLHBJTsfc"
      },
      "source": [
        "##Confidence Interval\n",
        "The (1-α)% confidence interval provides a range of values that you can be (1-α)% confident contains/captures the true mean of the population. Due to natural sampling variability, the sample mean (center of the CI) will vary from sample to sample.\n",
        "\n",
        "Practically, it usually is near impossible to study the entire population. Researchers can only work on samples of the population and estimate parameters of the popultion using sample statistics.Therefore, a confidence interval is simply a way to measure how well the sample represents the population. \n",
        "\n",
        "It is important to point out that the confidence is in the **method**, not in a particular interval. If we repeat the sampling method many times, approximately 95% of the intervals constructed would **capture** the true population mean.\n",
        "\n",
        "Therefore, as the sample size increases, the range of interval values will be narrower, meaning that the estimation being more accurate compared with a smaller sample.\n",
        "<br>\n",
        "<br>\n",
        "In this project, we can construct confidence interval based on the sample data collected.\n",
        "<br>\n",
        "From the histogram and bloxplot, we have already estabished that the data is not normally distributed. However, give the large sample size, using <b> the central limit theorem</b>, we know the sampling distribution of the mean will follow a normal distribution. The following code will generate the 95% confidence interval for the mean water temperatue for year 2016. The code will generate the upper level and lower level of the confidence interval based on the sample.\n",
        "\n",
        "stats.norm.interval(alpha=,loc=scale=) function is used to genetate the confidence interval. alpha provides the significance level, 1-alpha is the confidence, loc is the mean and scale is the standard deviation of the sample mean.\n",
        "\n",
        "numpy.mean() function provides the sample mean and stats.sem() computes the sandard error of the mean."
      ]
    },
    {
      "cell_type": "markdown",
      "source": [
        "Let's randomly select a sample of 100 observations from the population (water temperature)."
      ],
      "metadata": {
        "id": "NgJX_S38s8sT"
      }
    },
    {
      "cell_type": "code",
      "source": [
        "data=np.random.choice(df2, size=100, replace=False)"
      ],
      "metadata": {
        "id": "LKZ-o2A2tCKw"
      },
      "execution_count": null,
      "outputs": []
    },
    {
      "cell_type": "markdown",
      "source": [
        "Since we are working with a large sample (n >30), we can use the normal.interval() function from the scipy.stats library to calculate a confidence interval for a population mean."
      ],
      "metadata": {
        "id": "5cchwaVltGHG"
      }
    },
    {
      "cell_type": "code",
      "metadata": {
        "colab": {
          "base_uri": "https://localhost:8080/"
        },
        "id": "BBgUnFf6T2bq",
        "outputId": "8522906d-71a4-4be5-ede5-3b2ba3f8f434"
      },
      "source": [
        "stats.norm.interval(alpha=0.95, loc=np.mean(data), scale=stats.sem(data)) "
      ],
      "execution_count": null,
      "outputs": [
        {
          "output_type": "execute_result",
          "data": {
            "text/plain": [
              "(64.53263004374635, 64.93912995625364)"
            ]
          },
          "metadata": {},
          "execution_count": 24
        }
      ]
    },
    {
      "cell_type": "markdown",
      "metadata": {
        "id": "UF0rbyLBVsvd"
      },
      "source": [
        "***Interpret the confidence interval you generated.***\n",
        "<br>\n",
        "***Answer:***\n",
        "<br> There is 95% chance that the interval (64.53263004374635, 64.93912995625364) will capture the true mean water temperature for year 2016."
      ]
    }
  ]
}